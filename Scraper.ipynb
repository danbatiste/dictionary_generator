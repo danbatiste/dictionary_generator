{
 "cells": [
  {
   "cell_type": "code",
   "execution_count": 71,
   "id": "6ac1fd00",
   "metadata": {},
   "outputs": [],
   "source": [
    "from lxml import html\n",
    "import requests\n",
    "from time import sleep\n",
    "import random as rand"
   ]
  },
  {
   "cell_type": "code",
   "execution_count": 60,
   "id": "aa55def3",
   "metadata": {},
   "outputs": [
    {
     "data": {
      "text/plain": [
       "('AND: Connective: A word connecting a word, phrase, clause, or sentence with that which precedes it: a colorless particle without an exact synonym in English, but expressed approximately by ‘with, along with, together with, besides, also, moreover,’ the elements connected being grammatically coördinate.',\n",
       " ['connective',\n",
       "  'a',\n",
       "  'word',\n",
       "  'connecting',\n",
       "  'a',\n",
       "  'word',\n",
       "  'phrase',\n",
       "  'clause',\n",
       "  'or',\n",
       "  'sentence',\n",
       "  'with',\n",
       "  'that',\n",
       "  'which',\n",
       "  'precedes',\n",
       "  'it',\n",
       "  'a',\n",
       "  'colorless',\n",
       "  'particle',\n",
       "  'without',\n",
       "  'an',\n",
       "  'exact',\n",
       "  'synonym',\n",
       "  'in',\n",
       "  'english',\n",
       "  'but',\n",
       "  'expressed',\n",
       "  'approximately',\n",
       "  'by',\n",
       "  'with',\n",
       "  'along',\n",
       "  'with',\n",
       "  'together',\n",
       "  'with',\n",
       "  'besides',\n",
       "  'also',\n",
       "  'moreover',\n",
       "  'the',\n",
       "  'elements',\n",
       "  'connected',\n",
       "  'being',\n",
       "  'grammatically',\n",
       "  'coördinate'])"
      ]
     },
     "execution_count": 60,
     "metadata": {},
     "output_type": "execute_result"
    }
   ],
   "source": [
    "def scrape_definition_MW(word):\n",
    "    \"\"\"Scrapes a definition from Merriam-webster\"\"\"\n",
    "    url = f\"https://www.merriam-webster.com/dictionary/{word}\"\n",
    "    page = requests.get(url)\n",
    "    \n",
    "    xml_tree = html.fromstring(page.content)\n",
    "    \n",
    "    \n",
    "    definition_arr = xml_tree.xpath(\n",
    "        '//*[@id=\"dictionary-entry-1\"]/div[2]/div[1]/span/div/span[2]/span/text()'\n",
    "    )\n",
    "    definition = \"\".join(definition_arr)\n",
    "    entry = f\"{word.upper()}: \" + definition\n",
    "    words = ''.join(list(filter(lambda x: x.isalpha() or x==' ', definition))).split(' ')\n",
    "    return entry, words\n",
    "\n",
    "def scrape_definition_wordnik(word):\n",
    "    \"\"\"Scrapes a definition from wordnik/duckduckgo\"\"\"\n",
    "    word = word.lower() # To make sure it fits the URL scheme\n",
    "    url = f\"https://www.wordnik.com/words/{word}\"\n",
    "    page = requests.get(url)\n",
    "    \n",
    "    xml_tree = html.fromstring(page.content)\n",
    "    \n",
    "    # Create definition to add to dictionary\n",
    "    for i in range(1, 100):\n",
    "        definition_arr = xml_tree.xpath(\n",
    "            f'//*[@id=\"define\"]/div/ul[1]/li[{i}]/text()'\n",
    "        )\n",
    "        definition = \"\".join(definition_arr).strip()\n",
    "        if len(definition) > 0:\n",
    "            break\n",
    "        \n",
    "    entry = f\"{word.upper()}: \" + definition\n",
    "    \n",
    "    # Create next list of words to use\n",
    "    words = ''.join(list(filter(lambda x: x.isalpha() or x==' ', definition))).split(' ')\n",
    "    words = list(filter(lambda w: len(w) > 0 and all([c.isalpha() for c in w]), words))\n",
    "    words = [w.lower() for w in words]\n",
    "    return entry, words\n",
    "\n",
    "scrape_definition_wordnik('and')"
   ]
  },
  {
   "cell_type": "code",
   "execution_count": 78,
   "id": "27652c91",
   "metadata": {},
   "outputs": [],
   "source": [
    "super_dict = dict()\n",
    "\n",
    "def main(seed=\"gold\"):\n",
    "    global super_dict\n",
    "    \n",
    "    # Begins with the seed word\n",
    "    word = seed\n",
    "    entry, words = scrape_definition_wordnik(word)\n",
    "    super_dict_entry = {word.upper() : entry}\n",
    "    super_dict.update(super_dict_entry)\n",
    "    \n",
    "    # Main loop to continuously add words to dictionary\n",
    "    while 1:\n",
    "        sleep(0.1)\n",
    "        for i in range(len(words)):\n",
    "            word = words[i].lower()\n",
    "            # Check if given word is in dictionary already\n",
    "            if word.upper() in super_dict.keys():\n",
    "                print(f'\"{word.upper()}\" already added, skipping...')\n",
    "                # In the event that all available words are already in the dictionary, try again with a random one\n",
    "                if all([w.upper() in super_dict.keys() for w in words]):\n",
    "                    main(seed=rand.choice(list(super_dict.keys()))) # Must convert to list first, rand.choice cant use dict_keys obj\n",
    "                continue\n",
    "            print(f'Querying \"{word.upper()}\"')\n",
    "            entry, words = scrape_definition_wordnik(word)\n",
    "            super_dict_entry = {word.upper() : entry}\n",
    "            super_dict.update(super_dict_entry)\n",
    "            print(f\"Added: {entry}\")\n",
    "            break\n",
    "            # print(entry, words, super_dict)"
   ]
  },
  {
   "cell_type": "code",
   "execution_count": 80,
   "id": "fb252f12",
   "metadata": {},
   "outputs": [
    {
     "name": "stdout",
     "output_type": "stream",
     "text": [
      "--------- ITEMS --------------\n",
      "IN\n",
      "WITHIN\n",
      "OR\n",
      "GOLD\n"
     ]
    }
   ],
   "source": [
    "print(\"--------- ITEMS --------------\")\n",
    "for k in super_dict.keys():\n",
    "    print(k)"
   ]
  },
  {
   "cell_type": "code",
   "execution_count": 51,
   "id": "4b962b07",
   "metadata": {},
   "outputs": [],
   "source": [
    "a = dict()\n",
    "a.update({'hi':1})"
   ]
  },
  {
   "cell_type": "code",
   "execution_count": 77,
   "id": "2d242a85",
   "metadata": {},
   "outputs": [
    {
     "data": {
      "text/plain": [
       "['hi']"
      ]
     },
     "execution_count": 77,
     "metadata": {},
     "output_type": "execute_result"
    }
   ],
   "source": [
    "list(a.keys())"
   ]
  },
  {
   "cell_type": "code",
   "execution_count": null,
   "id": "f2251b57",
   "metadata": {},
   "outputs": [],
   "source": []
  },
  {
   "cell_type": "code",
   "execution_count": null,
   "id": "6e8f73af",
   "metadata": {},
   "outputs": [],
   "source": []
  }
 ],
 "metadata": {
  "kernelspec": {
   "display_name": "Python 3",
   "language": "python",
   "name": "python3"
  },
  "language_info": {
   "codemirror_mode": {
    "name": "ipython",
    "version": 3
   },
   "file_extension": ".py",
   "mimetype": "text/x-python",
   "name": "python",
   "nbconvert_exporter": "python",
   "pygments_lexer": "ipython3",
   "version": "3.7.9"
  }
 },
 "nbformat": 4,
 "nbformat_minor": 5
}
